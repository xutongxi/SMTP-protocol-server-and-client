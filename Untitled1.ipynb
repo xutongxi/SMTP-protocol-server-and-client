{
 "cells": [
  {
   "cell_type": "code",
   "execution_count": 1,
   "id": "0c62f9b2",
   "metadata": {},
   "outputs": [],
   "source": [
    "import smtplib"
   ]
  },
  {
   "cell_type": "code",
   "execution_count": 2,
   "id": "8337ec88",
   "metadata": {},
   "outputs": [],
   "source": [
    "smtp = smtplib.SMTP(\"163.123.183.116\", 25)\n"
   ]
  }
 ],
 "metadata": {
  "kernelspec": {
   "display_name": "Python 3 (ipykernel)",
   "language": "python",
   "name": "python3"
  },
  "language_info": {
   "codemirror_mode": {
    "name": "ipython",
    "version": 3
   },
   "file_extension": ".py",
   "mimetype": "text/x-python",
   "name": "python",
   "nbconvert_exporter": "python",
   "pygments_lexer": "ipython3",
   "version": "3.10.9"
  }
 },
 "nbformat": 4,
 "nbformat_minor": 5
}
