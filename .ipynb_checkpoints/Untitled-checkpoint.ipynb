{
 "cells": [
  {
   "cell_type": "code",
   "execution_count": 78,
   "id": "fc18a8e7",
   "metadata": {},
   "outputs": [],
   "source": [
    "import socket\n",
    "import email.utils\n",
    "import email.message\n",
    "import email.generator\n",
    "import re\n",
    "\n",
    "SMTP_PORT = 25\n",
    "CRLF = \"\\r\\n\" #line terminator\n",
    "bianry_CRLF = b\"\\r\\n\" #binary form\n",
    "max_text = 1000\n",
    "max_read = 1100\n",
    "\n"
   ]
  },
  {
   "cell_type": "code",
   "execution_count": 79,
   "id": "79ae4bca",
   "metadata": {},
   "outputs": [],
   "source": [
    "class ResponseException(Exception):\n",
    "    def __init__(self, code, message):\n",
    "        self.code = code\n",
    "        self.message = message\n",
    "        super().__init__(f\"SMTP response error: {code} {message}\")\n"
   ]
  },
  {
   "cell_type": "markdown",
   "id": "e37a3cb6",
   "metadata": {},
   "source": [
    "实现client_SMTP类"
   ]
  },
  {
   "cell_type": "code",
   "execution_count": 119,
   "id": "e6cc59f1",
   "metadata": {},
   "outputs": [],
   "source": [
    "class client_SMTP:\n",
    "    tcp_scoket = None#连接的socket\n",
    "    reply = None#备用存储回复消息\n",
    "    communicat_log = None#等待以后扩展\n",
    "    host = None#远程IP地址\n",
    "    port = SMTP_PORT#远程端口\n",
    "    timeout = None#断时间\n",
    "    esmtp = False#是否支持使用esmtp\n",
    "    esmtp_support = {}\n",
    "    responce = None\n",
    "    encode = None#发送命令的编码形式\n",
    "    #remote_host(host, port) 本地服务器地址 fqdn本机域名地址  source_address为本机地址\n",
    "    def __init__(self, remote_host, port, local_host_hostname=None, source_address=None, time_out = 10):\n",
    "        self.timeout = time_out\n",
    "        self.host = remote_host\n",
    "        self.port = port\n",
    "        self.encode = 'ascii' #or utf-8 if have time\n",
    "        fqdn = socket.getfqdn()\n",
    "        self.source_address = source_address#(ip, port)\n",
    "        if local_host_hostname is not None:\n",
    "            self.local_host_hostname = local_host_hostname\n",
    "        elif '.' in fqdn:\n",
    "            self.local_host_hostname = fqdn\n",
    "        else:\n",
    "            self.local_host_hostname = socket.gethostbyname(socket.getfqdn())\n",
    "            self.local_host_hostname = result = '[{}]'.format(self.local_host_hostname)\n",
    "        (reply_code,reply_msg) = self.connect()\n",
    "        if reply_code != b'220':\n",
    "            #self.close()\n",
    "            raise ResponseException(reply_code,reply_msg)\n",
    "        else:\n",
    "            print(\"connect success\")\n",
    "        \n",
    "    def connect(self, host = None, port = None):\n",
    "        if not host:\n",
    "            host = self.host\n",
    "        if not port:\n",
    "            port = self.port\n",
    "        self.tcp_scoket = socket.create_connection((host, port), self.timeout,self.source_address)\n",
    "        #analysis for the server reply\n",
    "        return self.get_reply()# a touple with code and Possible msg\n",
    "        \n",
    "        \n",
    "    def get_reply(self):#注意得到的(reply_code, result_msgs)为二进制形式\n",
    "        reply_list = []\n",
    "        reply_code = b''\n",
    "        if self.reply is None:\n",
    "            self.reply = self.tcp_scoket.makefile('rb')#create reply file in binary form 必要时需要在后续转化成ascii阅读\n",
    "        reply_msg = self.reply.readline(max_read)\n",
    "        while 1:\n",
    "            if len(reply_msg) > max_text:\n",
    "                self.close()\n",
    "                raise ResponseException(500, \"Line too long.\")#longer than 512 this point is 1000 byte\n",
    "            reply_code = reply_msg[0:3]\n",
    "            reply_list.append(reply_msg[4:].strip(b' \\t\\r\\n'))#\\t is not necessary in protocol but avoid some server support\n",
    "            if reply_msg[3:4] != b\"-\":\n",
    "                break\n",
    "            else:\n",
    "                reply_msg = self.reply.readline(max_read)\n",
    "        result_msgs = b\"\"\n",
    "        for line in reply_list:\n",
    "            result_msgs += line + b\"\\n\"\n",
    "        return (reply_code, result_msgs)\n",
    "            \n",
    "    def send(self, msg):#use socket to send messagge msg type is string\n",
    "        msg = msg.encode(\"ascii\")\n",
    "        try:\n",
    "            self.tcp_scoket.sendall(msg)#better than send\n",
    "        except socket.error as e:\n",
    "            print(f\"Error sending data: {e}\")\n",
    "            \n",
    "    def send_cmd_norly(self, cmd, msg = None):#putcmd\n",
    "        if msg != None:\n",
    "            cmd = f'{cmd} {msg}{CRLF}'\n",
    "        else:\n",
    "            cmd = f'{cmd}{CRLF}'\n",
    "        self.send(cmd)\n",
    "            \n",
    "    def send_cmd(self, cmd, msg = None):#cmd内的'\\r'''\\n'需要被转换为\\\\r\\\\n docmd\n",
    "        self.send_cmd_norly(cmd, msg)\n",
    "        return self.get_reply()\n",
    "        \n",
    "    def send_helo(self, msg = None):\n",
    "        if msg == None:\n",
    "            msg = self.local_host_hostname\n",
    "        (reply_code, result_msgs) = self.send_cmd('helo', msg)\n",
    "        return (reply_code, result_msgs)\n",
    "    \n",
    "    \n",
    "    def send_ehlo(self, msg = None):#Reserved ESMTP extensions\n",
    "        if msg == None:\n",
    "            msg = self.local_host_hostname\n",
    "        (reply_code, result_msgs) = self.send_cmd('ehlo', msg)\n",
    "        if int(reply_code) == 250:\n",
    "            self.esmtp = True\n",
    "            feature = result_msgs.decode(\"ascii\").split('\\n')#依据换行符进行分割\n",
    "            self.esmtp_support = feature_extra(feature)\n",
    "            \n",
    "        else:\n",
    "            return (reply_code, result_msgs)\n",
    "        \n",
    "        \n",
    "    def send_noop(self):\n",
    "        return self.send_cmd('noop')\n",
    "    \n",
    "    def send_rset(self):\n",
    "        return self.send_cmd(\"rset\")\n",
    "    \n",
    "    \n",
    "    def send_mail(self, sender, option = None):#reserve option for Esmpt's fulture extension\n",
    "        sender = self.mail_format(sender)\n",
    "        return self.send_cmd(\"mail\", f'FROM:{sender}')\n",
    "    \n",
    "    \n",
    "    def mail_format(self, address):#address format xxxx@xx.xx to <xxxx@xx.xx>\n",
    "#         displayname, addr = email.utils.parseaddr(addrstring)\n",
    "        return f'<{address}>'\n",
    "\n",
    "\n",
    "    def send_data(self, msg):\n",
    "        (reply_code, result_msgs) = self.send_cmd('data', None)\n",
    "        if reply_code != 354:\n",
    "            raise ResponseException(reply_code, result_msgs)\n",
    "        else:\n",
    "            msg = _quote_periods(_exchange_EOL(msg))\n",
    "            if(msg[-2:] != CRLF):\n",
    "                msg = msg + CRLF\n",
    "            msg = msg + '.' + CRLF\n",
    "            self.send(msg)\n",
    "            (reply_code, result_msgs) = self.get_reply()\n",
    "            return (reply_code, result_msgs)\n",
    "                \n",
    "            \n",
    "    def _exchange_EOL(msg):#_fix_eols\n",
    "        return  re.sub(r'(?:\\r\\n|\\n|\\r(?!\\n))', CRLF, msg)#这个函数以后可以更新一下\n",
    "    def _quote_periods(msg):#避免行首产生的.被识别为终止字符\n",
    "        return re.sub(r'(?m)^\\.', '..', msg)\n",
    "    \n",
    "    def send_rcpt(self, recp, option = None):#reserve option for Esmpt's fulture extension\n",
    "        recp = self.mail_format(recp)\n",
    "        return self.send_cmd(\"rcpt\", f'TO:{recp}')\n",
    "    \n",
    "    def send_quit(self):\n",
    "        respons = self.sendcmd(\"quit\")\n",
    "        self.close_socket()\n",
    "        return respons\n",
    "    \n",
    "    def close_socket(self):\n",
    "        sock = self.tcp_scoket\n",
    "        self.tcp_scoket = None\n",
    "        if sock:\n",
    "            sock.close()\n",
    "\n",
    "    def send_vrfy(self, address):#address format xxxx@xx.xx\n",
    "        (reply_code, result_msgs) = self.send_cmd(\"vrfy\", address)\n",
    "        return (reply_code, result_msgs)\n",
    "    \n",
    "    def sendmail(self, sender, recps, msg):#sender 为邮件形式的地址xxx@xx.zz具体发送的ip地址（本地服务器）在self中存储\n",
    "        #recps 的形式为列表化的发送对象，允许向多个邮件发送[1@1.1,2@2.2.....]\n",
    "        (reply_code, result_msgs) = self.send_helo(self.local_host_hostname)\n",
    "        if reply_code != 250:\n",
    "            self.close_socket()\n",
    "            raise ResponseException(reply_code, result_msgs)\n",
    "        (reply_code, result_msgs) = self.send_mail(sender)\n",
    "        if reply_code != 250:\n",
    "            self.close_socket()\n",
    "            raise ResponseException(reply_code, result_msgs)\n",
    "        for recp in recps:\n",
    "            (reply_code, result_msgs) = self.send_rcpt(recp)\n",
    "            if reply_code != 250 and reply_code != 251:\n",
    "                self.close_socket()\n",
    "                raise ResponseException(reply_code, result_msgs)\n",
    "        (reply_code, result_msgs) = self.send_data(msg)\n",
    "        if reply_code != 250:\n",
    "            self.close_socket()\n",
    "            raise ResponseException(reply_code, result_msgs)\n",
    "        return True\n",
    "    \n",
    "    def send_newmail(self, sender, recps, msg):\n",
    "        (reply_code, result_msgs) = self.send_mail(sender)\n",
    "        if reply_code != 250:\n",
    "            self.close_socket()\n",
    "            raise ResponseException(reply_code, result_msgs)\n",
    "        for recp in recps:\n",
    "            (reply_code, result_msgs) = self.send_rcpt(recp)\n",
    "            if reply_code != 250 and reply_code != 251:\n",
    "                self.close_socket()\n",
    "                raise ResponseException(reply_code, result_msgs)\n",
    "        (reply_code, result_msgs) = self.send_data(msg)\n",
    "        if reply_code != 250:\n",
    "            self.close_socket()\n",
    "            raise ResponseException(reply_code, result_msgs)\n",
    "        return True"
   ]
  },
  {
   "cell_type": "code",
   "execution_count": 120,
   "id": "ba1fc7a3",
   "metadata": {},
   "outputs": [
    {
     "name": "stdout",
     "output_type": "stream",
     "text": [
      "connect success\n"
     ]
    }
   ],
   "source": [
    "client = client_SMTP(\"163.123.183.116\", 25)"
   ]
  },
  {
   "cell_type": "code",
   "execution_count": 121,
   "id": "0f5ef968",
   "metadata": {},
   "outputs": [
    {
     "data": {
      "text/plain": [
       "(b'250', b'smtpserver\\n')"
      ]
     },
     "execution_count": 121,
     "metadata": {},
     "output_type": "execute_result"
    }
   ],
   "source": [
    "#     def send_cmd(self, cmd, msg = None):#cmd内的'\\r'''\\n'需要被转换为\\\\r\\\\n docmd\n",
    "#         self.send_cmd_norly(cmd, msg = None)\n",
    "#         (reply_code, result_msgs) = self.get_reply()\n",
    "\n",
    "\n",
    "#     def send_helo(self, msg = None):\n",
    "#         if msg == None:\n",
    "#             msg = self.local_host_hostname\n",
    "#         (reply_code, result_msgs) = self.send_cmd('helo', msg)\n",
    "#         return (reply_code, result_msgs)\n",
    "    \n",
    "client.send_helo()\n"
   ]
  },
  {
   "cell_type": "code",
   "execution_count": 122,
   "id": "119f7b2d",
   "metadata": {},
   "outputs": [
    {
     "data": {
      "text/plain": [
       "(b'250', b'OK\\n')"
      ]
     },
     "execution_count": 122,
     "metadata": {},
     "output_type": "execute_result"
    }
   ],
   "source": [
    "#  def send_mail(self, sender):#reserve option for Esmpt's fulture extension\n",
    "#         sender = self.mail_format(sender)\n",
    "#         return self.send_cmd(\"mail\", f'FROM:{sender}')\n",
    "\n",
    "client.send_mail(\"xutongxi@122.com\")"
   ]
  },
  {
   "cell_type": "code",
   "execution_count": 123,
   "id": "c4b1458e",
   "metadata": {},
   "outputs": [
    {
     "data": {
      "text/plain": [
       "(b'250', b'OK\\n')"
      ]
     },
     "execution_count": 123,
     "metadata": {},
     "output_type": "execute_result"
    }
   ],
   "source": [
    "#     def send_rcpt(self, recp):#reserve option for Esmpt's fulture extension\n",
    "#         recp = mail_format(recp)\n",
    "#         return self.send_cmd(\"rcpt\", f'TO:{sender}')\n",
    "receptor = \"zhangyangyang@gmail.com\"\n",
    "client.send_rcpt(receptor)"
   ]
  },
  {
   "cell_type": "code",
   "execution_count": 118,
   "id": "e773fc6b",
   "metadata": {},
   "outputs": [
    {
     "data": {
      "text/plain": [
       "(b'354', b'End data with <CR><LF>.<CR><LF>\\n')"
      ]
     },
     "execution_count": 118,
     "metadata": {},
     "output_type": "execute_result"
    }
   ],
   "source": [
    "client.send_datames()"
   ]
  },
  {
   "cell_type": "code",
   "execution_count": 124,
   "id": "50e7f8a8",
   "metadata": {},
   "outputs": [
    {
     "ename": "ResponseException",
     "evalue": "SMTP response error: b'354' b'End data with <CR><LF>.<CR><LF>\\n'",
     "output_type": "error",
     "traceback": [
      "\u001b[1;31m---------------------------------------------------------------------------\u001b[0m",
      "\u001b[1;31mResponseException\u001b[0m                         Traceback (most recent call last)",
      "Cell \u001b[1;32mIn[124], line 14\u001b[0m\n\u001b[0;32m      1\u001b[0m \u001b[38;5;66;03m#     def send_data(self, msg):\u001b[39;00m\n\u001b[0;32m      2\u001b[0m \u001b[38;5;66;03m#         (reply_code, result_msgs) = self.send_cmd('data')\u001b[39;00m\n\u001b[0;32m      3\u001b[0m \u001b[38;5;66;03m#         if reply_code != 354:\u001b[39;00m\n\u001b[1;32m   (...)\u001b[0m\n\u001b[0;32m     11\u001b[0m \u001b[38;5;66;03m#             (reply_code, result_msgs) = self.get_reply()\u001b[39;00m\n\u001b[0;32m     12\u001b[0m \u001b[38;5;66;03m#             return (reply_code, result_msgs)\u001b[39;00m\n\u001b[1;32m---> 14\u001b[0m \u001b[43mclient\u001b[49m\u001b[38;5;241;43m.\u001b[39;49m\u001b[43msend_data\u001b[49m\u001b[43m(\u001b[49m\u001b[38;5;124;43m\"\u001b[39;49m\u001b[38;5;124;43mbalblabl\u001b[39;49m\u001b[38;5;124;43m\"\u001b[39;49m\u001b[43m)\u001b[49m\n",
      "Cell \u001b[1;32mIn[119], line 123\u001b[0m, in \u001b[0;36mclient_SMTP.send_data\u001b[1;34m(self, msg)\u001b[0m\n\u001b[0;32m    121\u001b[0m (reply_code, result_msgs) \u001b[38;5;241m=\u001b[39m \u001b[38;5;28mself\u001b[39m\u001b[38;5;241m.\u001b[39msend_cmd(\u001b[38;5;124m'\u001b[39m\u001b[38;5;124mdata\u001b[39m\u001b[38;5;124m'\u001b[39m, \u001b[38;5;28;01mNone\u001b[39;00m)\n\u001b[0;32m    122\u001b[0m \u001b[38;5;28;01mif\u001b[39;00m reply_code \u001b[38;5;241m!=\u001b[39m \u001b[38;5;241m354\u001b[39m:\n\u001b[1;32m--> 123\u001b[0m     \u001b[38;5;28;01mraise\u001b[39;00m ResponseException(reply_code, result_msgs)\n\u001b[0;32m    124\u001b[0m \u001b[38;5;28;01melse\u001b[39;00m:\n\u001b[0;32m    125\u001b[0m     msg \u001b[38;5;241m=\u001b[39m _quote_periods(_exchange_EOL(msg))\n",
      "\u001b[1;31mResponseException\u001b[0m: SMTP response error: b'354' b'End data with <CR><LF>.<CR><LF>\\n'"
     ]
    }
   ],
   "source": [
    "#     def send_data(self, msg):\n",
    "#         (reply_code, result_msgs) = self.send_cmd('data')\n",
    "#         if reply_code != 354:\n",
    "#             raise ResponseException(reply_code, result_msgs)\n",
    "#         else:\n",
    "#             msg = _quote_periods(_exchange_EOL(msg))\n",
    "#             if(msg[-2:] != CRLF):\n",
    "#                 msg = msg + CRLF\n",
    "#             msg = msg + '.' + CRLF\n",
    "#             self.send(msg)\n",
    "#             (reply_code, result_msgs) = self.get_reply()\n",
    "#             return (reply_code, result_msgs)\n",
    "\n",
    "client.send_data(\"balblabl\")"
   ]
  },
  {
   "cell_type": "code",
   "execution_count": 86,
   "id": "ccb9f444",
   "metadata": {},
   "outputs": [
    {
     "name": "stderr",
     "output_type": "stream",
     "text": [
      "send: 'ehlo [172.28.0.1]\\r\\n'\n",
      "reply: b'250-smtpserver\\r\\n'\n",
      "reply: b'250-SIZE 33554432\\r\\n'\n",
      "reply: b'250-8BITMIME\\r\\n'\n",
      "reply: b'250 HELP\\r\\n'\n",
      "reply: retcode (250); Msg: b'smtpserver\\nSIZE 33554432\\n8BITMIME\\nHELP'\n",
      "send: 'MAIL FROM: <sender@example.com>\\r\\n'\n",
      "reply: b'250 OK\\r\\n'\n",
      "reply: retcode (250); Msg: b'OK'\n",
      "send: 'RCPT TO: <recipient@example.com>\\r\\n'\n",
      "reply: b'250 OK\\r\\n'\n",
      "reply: retcode (250); Msg: b'OK'\n",
      "send: 'DATA\\r\\n'\n",
      "reply: b'354 End data with <CR><LF>.<CR><LF>\\r\\n'\n",
      "reply: retcode (354); Msg: b'End data with <CR><LF>.<CR><LF>'\n"
     ]
    }
   ],
   "source": [
    "import smtplib\n",
    "\n",
    "# 创建SMTP对象\n",
    "server = smtplib.SMTP(\"163.123.183.116\", 25)\n",
    "server.set_debuglevel(1)  # 可选，设置调试模式以打印出通讯过程\n",
    "\n",
    "# 发送HELO命令并等待响应\n",
    "server.ehlo()\n",
    "\n",
    "# 发送MAIL FROM命令\n",
    "server.docmd(\"MAIL FROM: <sender@example.com>\")\n",
    "\n",
    "# 发送RCPT TO命令\n",
    "server.docmd(\"RCPT TO: <recipient@example.com>\")\n",
    "\n",
    "# 发送DATA命令，并检查是否收到开始输入的提示\n",
    "code, message = server.docmd(\"DATA\")\n"
   ]
  },
  {
   "cell_type": "code",
   "execution_count": null,
   "id": "a3eeb972",
   "metadata": {},
   "outputs": [],
   "source": []
  }
 ],
 "metadata": {
  "kernelspec": {
   "display_name": "Python 3 (ipykernel)",
   "language": "python",
   "name": "python3"
  },
  "language_info": {
   "codemirror_mode": {
    "name": "ipython",
    "version": 3
   },
   "file_extension": ".py",
   "mimetype": "text/x-python",
   "name": "python",
   "nbconvert_exporter": "python",
   "pygments_lexer": "ipython3",
   "version": "3.10.9"
  }
 },
 "nbformat": 4,
 "nbformat_minor": 5
}
