{
 "cells": [
  {
   "cell_type": "code",
   "execution_count": 1,
   "id": "fc18a8e7",
   "metadata": {},
   "outputs": [],
   "source": [
    "import socket\n",
    "\n",
    "\n",
    "SMTP_PORT = 25\n",
    "CRLF = \"\\r\\n\" #line terminator\n",
    "bianry_CRLF = b\"\\r\\n\" #binary form\n",
    "max_text = 1000\n",
    "max_read = 1100\n",
    "\n"
   ]
  },
  {
   "cell_type": "code",
   "execution_count": 2,
   "id": "79ae4bca",
   "metadata": {},
   "outputs": [],
   "source": [
    "class ResponseException(Exception):\n",
    "    def __init__(self, code, message):\n",
    "        self.code = code\n",
    "        self.message = message\n",
    "        super().__init__(f\"SMTP response error: {code} {message}\")\n"
   ]
  },
  {
   "cell_type": "code",
   "execution_count": 2,
   "id": "c8928a55",
   "metadata": {},
   "outputs": [
    {
     "data": {
      "text/plain": [
       "'laptopxu.fritz.box'"
      ]
     },
     "execution_count": 2,
     "metadata": {},
     "output_type": "execute_result"
    }
   ],
   "source": [
    "socket.getfqdn()"
   ]
  },
  {
   "cell_type": "code",
   "execution_count": 5,
   "id": "46b1f385",
   "metadata": {},
   "outputs": [
    {
     "data": {
      "text/plain": [
       "[1, 2, 3]"
      ]
     },
     "execution_count": 5,
     "metadata": {},
     "output_type": "execute_result"
    }
   ],
   "source": [
    "a = [1,2]\n",
    "a.append(3)\n",
    "a"
   ]
  },
  {
   "cell_type": "code",
   "execution_count": 5,
   "id": "c8b1b337",
   "metadata": {},
   "outputs": [],
   "source": [
    "add = socket.gethostbyname(socket.getfqdn())"
   ]
  },
  {
   "cell_type": "code",
   "execution_count": 10,
   "id": "ba700c8e",
   "metadata": {},
   "outputs": [
    {
     "data": {
      "text/plain": [
       "'[192.168.178.116]'"
      ]
     },
     "execution_count": 10,
     "metadata": {},
     "output_type": "execute_result"
    }
   ],
   "source": [
    "'[{}]'.format(add)\n"
   ]
  },
  {
   "cell_type": "markdown",
   "id": "e37a3cb6",
   "metadata": {},
   "source": [
    "实现client_SMTP类"
   ]
  },
  {
   "cell_type": "code",
   "execution_count": 30,
   "id": "e6cc59f1",
   "metadata": {},
   "outputs": [],
   "source": [
    "class client_SMTP:\n",
    "    tcp_scoket = None\n",
    "    reply = None\n",
    "    communicat_log = None#等待以后扩展\n",
    "    host = None\n",
    "    port = SMTP_PORT\n",
    "    timeout = None\n",
    "    esmtp = False\n",
    "    esmtp_support = {}\n",
    "    responce = None\n",
    "    encode = None\n",
    "    \n",
    "    def __init__(self, remote_host, port, local_host_hostname=None, source_address=None, time_out = 10):\n",
    "        self.timeout = time_out\n",
    "        self.host = remote_host\n",
    "        self.port = port\n",
    "        self.encode = 'ascii' #or utf-8 if have time\n",
    "        fqdn = socket.getfqdn()\n",
    "        self.source_address = source_address#(ip, port)\n",
    "        if local_host_hostname is not None:\n",
    "            self.local_host_hostname = local_host_hostname\n",
    "        elif '.' in fqdn:\n",
    "            self.local_host_hostname = fqdn\n",
    "        else:\n",
    "            self.local_host_hostname = socket.gethostbyname(socket.getfqdn())\n",
    "            self.local_host_hostname = result = '[{}]'.format(self.local_host_hostname)\n",
    "        (reply_code,reply_msg) = self.connect()\n",
    "        if reply_code != b'220':\n",
    "            #self.close()\n",
    "            raise ResponseException(reply_code,reply_msg)\n",
    "        else:\n",
    "            print(\"connect success\")\n",
    "        \n",
    "    def connect(self, host = None, port = None):\n",
    "        if not host:\n",
    "            host = self.host\n",
    "        if not port:\n",
    "            port = self.port\n",
    "        self.tcp_scoket = socket.create_connection((host, port), self.timeout,self.source_address)\n",
    "        #analysis for the server reply\n",
    "        return self.get_reply()# a touple with code and Possible msg\n",
    "        \n",
    "        \n",
    "    def get_reply(self):\n",
    "        reply_list = []\n",
    "        reply_code = b''\n",
    "        if self.reply is None:\n",
    "            self.reply = self.tcp_scoket.makefile('rb')#create reply file in binary form\n",
    "        reply_msg = self.reply.readline(max_read)\n",
    "        while 1:\n",
    "            if len(reply_msg) > max_text:\n",
    "                self.close()\n",
    "                raise ResponseException(500, \"Line too long.\")#longer than 512 this point is 1000 byte\n",
    "            reply_code = reply_msg[0:3]\n",
    "            reply_list.append(reply_msg[4:].strip(b' \\t\\r\\n'))#\\t is not necessary in protocol but avoid some server support\n",
    "            if reply_msg[3:4] != b\"-\":\n",
    "                break\n",
    "            else:\n",
    "                reply_msg = self.reply.readline(max_read)\n",
    "        result_msgs = b\"\"\n",
    "        for line in reply_list:\n",
    "            result_msgs += line + b\"\\n\"\n",
    "        return (reply_code, result_msgs)\n",
    "            \n",
    "        "
   ]
  },
  {
   "cell_type": "code",
   "execution_count": 31,
   "id": "6e2d0e0f",
   "metadata": {},
   "outputs": [
    {
     "ename": "ResponseException",
     "evalue": "SMTP response error: b'220' b'smtpserver Python SMTP proxy version 0.3\\n'",
     "output_type": "error",
     "traceback": [
      "\u001b[1;31m---------------------------------------------------------------------------\u001b[0m",
      "\u001b[1;31mResponseException\u001b[0m                         Traceback (most recent call last)",
      "Cell \u001b[1;32mIn[31], line 1\u001b[0m\n\u001b[1;32m----> 1\u001b[0m client \u001b[38;5;241m=\u001b[39m \u001b[43mclient_SMTP\u001b[49m\u001b[43m(\u001b[49m\u001b[38;5;124;43m\"\u001b[39;49m\u001b[38;5;124;43m163.123.183.116\u001b[39;49m\u001b[38;5;124;43m\"\u001b[39;49m\u001b[43m,\u001b[49m\u001b[43m \u001b[49m\u001b[38;5;241;43m25\u001b[39;49m\u001b[43m)\u001b[49m\n",
      "Cell \u001b[1;32mIn[30], line 30\u001b[0m, in \u001b[0;36mclient_SMTP.__init__\u001b[1;34m(self, remote_host, port, local_host_hostname, source_address, time_out)\u001b[0m\n\u001b[0;32m     27\u001b[0m (reply_code,reply_msg) \u001b[38;5;241m=\u001b[39m \u001b[38;5;28mself\u001b[39m\u001b[38;5;241m.\u001b[39mconnect()\n\u001b[0;32m     28\u001b[0m \u001b[38;5;28;01mif\u001b[39;00m reply_code \u001b[38;5;241m!=\u001b[39m \u001b[38;5;241m220\u001b[39m:\n\u001b[0;32m     29\u001b[0m     \u001b[38;5;66;03m#self.close()\u001b[39;00m\n\u001b[1;32m---> 30\u001b[0m     \u001b[38;5;28;01mraise\u001b[39;00m ResponseException(reply_code,reply_msg)\n\u001b[0;32m     31\u001b[0m \u001b[38;5;28;01melse\u001b[39;00m:\n\u001b[0;32m     32\u001b[0m     \u001b[38;5;28mprint\u001b[39m(\u001b[38;5;124m\"\u001b[39m\u001b[38;5;124mconnect success\u001b[39m\u001b[38;5;124m\"\u001b[39m)\n",
      "\u001b[1;31mResponseException\u001b[0m: SMTP response error: b'220' b'smtpserver Python SMTP proxy version 0.3\\n'"
     ]
    }
   ],
   "source": [
    "client = client_SMTP(\"163.123.183.116\", 25)"
   ]
  },
  {
   "cell_type": "code",
   "execution_count": null,
   "id": "29b5f21b",
   "metadata": {},
   "outputs": [],
   "source": []
  }
 ],
 "metadata": {
  "kernelspec": {
   "display_name": "Python 3 (ipykernel)",
   "language": "python",
   "name": "python3"
  },
  "language_info": {
   "codemirror_mode": {
    "name": "ipython",
    "version": 3
   },
   "file_extension": ".py",
   "mimetype": "text/x-python",
   "name": "python",
   "nbconvert_exporter": "python",
   "pygments_lexer": "ipython3",
   "version": "3.10.9"
  }
 },
 "nbformat": 4,
 "nbformat_minor": 5
}
