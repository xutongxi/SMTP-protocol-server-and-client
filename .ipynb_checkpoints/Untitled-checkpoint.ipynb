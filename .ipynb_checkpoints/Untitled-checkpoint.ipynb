{
 "cells": [
  {
   "cell_type": "code",
   "execution_count": 1,
   "id": "fc18a8e7",
   "metadata": {},
   "outputs": [],
   "source": [
    "import socket\n",
    "import email.utils\n",
    "import email.message\n",
    "import email.generator\n",
    "\n",
    "SMTP_PORT = 25\n",
    "CRLF = \"\\r\\n\" #line terminator\n",
    "bianry_CRLF = b\"\\r\\n\" #binary form\n",
    "max_text = 1000\n",
    "max_read = 1100\n",
    "\n"
   ]
  },
  {
   "cell_type": "code",
   "execution_count": 5,
   "id": "79ae4bca",
   "metadata": {},
   "outputs": [],
   "source": [
    "class ResponseException(Exception):\n",
    "    def __init__(self, code, message):\n",
    "        self.code = code\n",
    "        self.message = message\n",
    "        super().__init__(f\"SMTP response error: {code} {message}\")\n"
   ]
  },
  {
   "cell_type": "code",
   "execution_count": 6,
   "id": "c8928a55",
   "metadata": {},
   "outputs": [
    {
     "data": {
      "text/plain": [
       "'laptopxu.eduroam.mwn.de'"
      ]
     },
     "execution_count": 6,
     "metadata": {},
     "output_type": "execute_result"
    }
   ],
   "source": [
    "socket.getfqdn()"
   ]
  },
  {
   "cell_type": "code",
   "execution_count": 35,
   "id": "46b1f385",
   "metadata": {},
   "outputs": [
    {
     "data": {
      "text/plain": [
       "False"
      ]
     },
     "execution_count": 35,
     "metadata": {},
     "output_type": "execute_result"
    }
   ],
   "source": [
    "None == ''"
   ]
  },
  {
   "cell_type": "code",
   "execution_count": 5,
   "id": "c8b1b337",
   "metadata": {},
   "outputs": [],
   "source": [
    "add = socket.gethostbyname(socket.getfqdn())"
   ]
  },
  {
   "cell_type": "code",
   "execution_count": 34,
   "id": "ba700c8e",
   "metadata": {},
   "outputs": [
    {
     "data": {
      "text/plain": [
       "False"
      ]
     },
     "execution_count": 34,
     "metadata": {},
     "output_type": "execute_result"
    }
   ],
   "source": [
    "isinstance(b'123',str)\n"
   ]
  },
  {
   "cell_type": "markdown",
   "id": "e37a3cb6",
   "metadata": {},
   "source": [
    "实现client_SMTP类"
   ]
  },
  {
   "cell_type": "code",
   "execution_count": 7,
   "id": "e6cc59f1",
   "metadata": {},
   "outputs": [],
   "source": [
    "class client_SMTP:\n",
    "    tcp_scoket = None#连接的socket\n",
    "    reply = None#备用存储回复消息\n",
    "    communicat_log = None#等待以后扩展\n",
    "    host = None#远程IP地址\n",
    "    port = SMTP_PORT#远程端口\n",
    "    timeout = None#断时间\n",
    "    esmtp = False#是否支持使用esmtp\n",
    "    esmtp_support = {}\n",
    "    responce = None\n",
    "    encode = None#发送命令的编码形式\n",
    "    \n",
    "    def __init__(self, remote_host, port, local_host_hostname=None, source_address=None, time_out = 10):\n",
    "        self.timeout = time_out\n",
    "        self.host = remote_host\n",
    "        self.port = port\n",
    "        self.encode = 'ascii' #or utf-8 if have time\n",
    "        fqdn = socket.getfqdn()\n",
    "        self.source_address = source_address#(ip, port)\n",
    "        if local_host_hostname is not None:\n",
    "            self.local_host_hostname = local_host_hostname\n",
    "        elif '.' in fqdn:\n",
    "            self.local_host_hostname = fqdn\n",
    "        else:\n",
    "            self.local_host_hostname = socket.gethostbyname(socket.getfqdn())\n",
    "            self.local_host_hostname = result = '[{}]'.format(self.local_host_hostname)\n",
    "        (reply_code,reply_msg) = self.connect()\n",
    "        if reply_code != b'220':\n",
    "            #self.close()\n",
    "            raise ResponseException(reply_code,reply_msg)\n",
    "        else:\n",
    "            print(\"connect success\")\n",
    "        \n",
    "    def connect(self, host = None, port = None):\n",
    "        if not host:\n",
    "            host = self.host\n",
    "        if not port:\n",
    "            port = self.port\n",
    "        self.tcp_scoket = socket.create_connection((host, port), self.timeout,self.source_address)\n",
    "        #analysis for the server reply\n",
    "        return self.get_reply()# a touple with code and Possible msg\n",
    "        \n",
    "        \n",
    "    def get_reply(self):#注意得到的(reply_code, result_msgs)为二进制形式\n",
    "        reply_list = []\n",
    "        reply_code = b''\n",
    "        if self.reply is None:\n",
    "            self.reply = self.tcp_scoket.makefile('rb')#create reply file in binary form 必要时需要在后续转化成ascii阅读\n",
    "        reply_msg = self.reply.readline(max_read)\n",
    "        while 1:\n",
    "            if len(reply_msg) > max_text:\n",
    "                self.close()\n",
    "                raise ResponseException(500, \"Line too long.\")#longer than 512 this point is 1000 byte\n",
    "            reply_code = reply_msg[0:3]\n",
    "            reply_list.append(reply_msg[4:].strip(b' \\t\\r\\n'))#\\t is not necessary in protocol but avoid some server support\n",
    "            if reply_msg[3:4] != b\"-\":\n",
    "                break\n",
    "            else:\n",
    "                reply_msg = self.reply.readline(max_read)\n",
    "        result_msgs = b\"\"\n",
    "        for line in reply_list:\n",
    "            result_msgs += line + b\"\\n\"\n",
    "        return (reply_code, result_msgs)\n",
    "            \n",
    "    def send(self, msg):#use socket to send messagge\n",
    "        msg = msg.encode(\"ascii\")\n",
    "        try:\n",
    "            self.tcp_scoket.sendall(msg)#better than send\n",
    "        except socket.error as e:\n",
    "            print(f\"Error sending data: {e}\")\n",
    "            \n",
    "    def send_cmd_norly(self, cmd, msg = None):#putcmd\n",
    "        if msg != None:\n",
    "            cmd = f'{cmd} {msg}{CRLF}'\n",
    "        self.send(cmd)\n",
    "            \n",
    "    def send_cmd(self, cmd, msg = None):#cmd内的'\\r'''\\n'需要被转换为\\\\r\\\\n docmd\n",
    "        send_cmd_norly(self, cmd, msg = None)\n",
    "        (reply_code, result_msgs) = self.get_reply()\n",
    "        \n",
    "\n",
    "        \n",
    "        "
   ]
  },
  {
   "cell_type": "code",
   "execution_count": 8,
   "id": "6e2d0e0f",
   "metadata": {},
   "outputs": [],
   "source": [
    "    def send_helo(self, msg = None):\n",
    "        if msg = None:\n",
    "            msg = self.local_host_hostname\n",
    "        (reply_code, result_msgs) = self.send_cmd('helo', msg)\n",
    "        return (reply_code, result_msgs)\n",
    "        \n",
    "    "
   ]
  },
  {
   "cell_type": "code",
   "execution_count": 9,
   "id": "d12f4090",
   "metadata": {},
   "outputs": [
    {
     "ename": "SyntaxError",
     "evalue": "invalid character '，' (U+FF0C) (2926530737.py, line 1)",
     "output_type": "error",
     "traceback": [
      "\u001b[1;36m  Cell \u001b[1;32mIn[9], line 1\u001b[1;36m\u001b[0m\n\u001b[1;33m    def send_ehlo(self，msg = None):#Reserved ESMTP extensions\u001b[0m\n\u001b[1;37m                      ^\u001b[0m\n\u001b[1;31mSyntaxError\u001b[0m\u001b[1;31m:\u001b[0m invalid character '，' (U+FF0C)\n"
     ]
    }
   ],
   "source": [
    "    def send_ehlo(self，msg = None):#Reserved ESMTP extensions\n",
    "        if msg = None:\n",
    "            msg = self.local_host_hostname\n",
    "        (reply_code, result_msgs) = self.send_cmd(self, 'ehlo', msg)\n",
    "        if int(reply_code) == 250:\n",
    "            self.esmtp = True\n",
    "            feature = result_msgs.decode(\"ascii\").split('\\n')#依据换行符进行分割\n",
    "            self.esmtp_support = feature_extra(feature)\n",
    "            \n",
    "        else:\n",
    "            return (reply_code, result_msgs)"
   ]
  },
  {
   "cell_type": "code",
   "execution_count": null,
   "id": "34e5beac",
   "metadata": {},
   "outputs": [],
   "source": [
    "    def send_noop(self):\n",
    "        return self.send_cmd('noop')"
   ]
  },
  {
   "cell_type": "code",
   "execution_count": 10,
   "id": "22a56d3b",
   "metadata": {},
   "outputs": [],
   "source": [
    "    def send_rset(self):\n",
    "        return self.send_cmd(\"rset\")"
   ]
  },
  {
   "cell_type": "code",
   "execution_count": null,
   "id": "9ea2a606",
   "metadata": {},
   "outputs": [],
   "source": [
    "    def send_mail(self, sender, option):#reserve option for Esmpt's fulture extension\n",
    "        sender = mail_format(sender)\n",
    "        return self.send_cmd(\"mail\", f'FROM:{sender}')\n",
    "    \n",
    "    \n",
    "    def mail_format(address):#address format xxxx@xx.xx to <xxxx@xx.xx>\n",
    "#         displayname, addr = email.utils.parseaddr(addrstring)\n",
    "        return f'<{address}>'"
   ]
  },
  {
   "cell_type": "code",
   "execution_count": 2,
   "id": "65cb6515",
   "metadata": {},
   "outputs": [],
   "source": [
    "displayname, addr = email.utils.parseaddr('115344@qq.com')"
   ]
  },
  {
   "cell_type": "code",
   "execution_count": 3,
   "id": "28ef7299",
   "metadata": {},
   "outputs": [
    {
     "data": {
      "text/plain": [
       "('', '115344@qq.com')"
      ]
     },
     "execution_count": 3,
     "metadata": {},
     "output_type": "execute_result"
    }
   ],
   "source": [
    "displayname, addr"
   ]
  },
  {
   "cell_type": "code",
   "execution_count": null,
   "id": "292f21fd",
   "metadata": {},
   "outputs": [],
   "source": [
    "    def send_rcpt(self, recp, option):#reserve option for Esmpt's fulture extension\n",
    "        recp = mail_format(recp)\n",
    "        return self.send_cmd(\"rcpt\", f'TO:{sender}')\n",
    "        "
   ]
  },
  {
   "cell_type": "code",
   "execution_count": null,
   "id": "3250c29e",
   "metadata": {},
   "outputs": [],
   "source": [
    "    def send_data(self, msg):\n",
    "        \n",
    "                \n",
    "            \n",
    "    def exchange_EOL(msg):#_fix_eols\n",
    "        return  re.sub(r'(?:\\r\\n|\\n|\\r(?!\\n))', CRLF, msg)#这个函数以后可以更新一下"
   ]
  },
  {
   "cell_type": "code",
   "execution_count": null,
   "id": "50e7545f",
   "metadata": {},
   "outputs": [],
   "source": [
    "    def send_quit"
   ]
  },
  {
   "cell_type": "code",
   "execution_count": null,
   "id": "b132fe92",
   "metadata": {},
   "outputs": [],
   "source": [
    "    def send_vrfy"
   ]
  }
 ],
 "metadata": {
  "kernelspec": {
   "display_name": "Python 3 (ipykernel)",
   "language": "python",
   "name": "python3"
  },
  "language_info": {
   "codemirror_mode": {
    "name": "ipython",
    "version": 3
   },
   "file_extension": ".py",
   "mimetype": "text/x-python",
   "name": "python",
   "nbconvert_exporter": "python",
   "pygments_lexer": "ipython3",
   "version": "3.10.9"
  }
 },
 "nbformat": 4,
 "nbformat_minor": 5
}
