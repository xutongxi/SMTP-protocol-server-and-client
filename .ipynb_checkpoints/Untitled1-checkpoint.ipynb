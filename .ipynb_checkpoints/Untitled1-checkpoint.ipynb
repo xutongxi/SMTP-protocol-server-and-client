{
 "cells": [
  {
   "cell_type": "code",
   "execution_count": 92,
   "id": "0c62f9b2",
   "metadata": {},
   "outputs": [],
   "source": [
    "import smtpclient"
   ]
  },
  {
   "cell_type": "code",
   "execution_count": 93,
   "id": "8337ec88",
   "metadata": {},
   "outputs": [
    {
     "name": "stdout",
     "output_type": "stream",
     "text": [
      "connect success\n"
     ]
    }
   ],
   "source": [
    "smtp = smtpclient.client_SMTP(\"10.181.222.183\",25,None, None,10)\n"
   ]
  },
  {
   "cell_type": "code",
   "execution_count": 94,
   "id": "ba0921fd",
   "metadata": {},
   "outputs": [
    {
     "data": {
      "text/plain": [
       "(b'250', b'Hello, pleased to meet you\\n')"
      ]
     },
     "execution_count": 94,
     "metadata": {},
     "output_type": "execute_result"
    }
   ],
   "source": [
    "smtp.send_helo()"
   ]
  },
  {
   "cell_type": "code",
   "execution_count": 95,
   "id": "3748d2df",
   "metadata": {},
   "outputs": [
    {
     "data": {
      "text/plain": [
       "(b'250', b'OK\\n')"
      ]
     },
     "execution_count": 95,
     "metadata": {},
     "output_type": "execute_result"
    }
   ],
   "source": [
    "smtp.send_mail(\"xutongxi@123.com\")"
   ]
  },
  {
   "cell_type": "code",
   "execution_count": 96,
   "id": "552b21e6",
   "metadata": {},
   "outputs": [
    {
     "data": {
      "text/plain": [
       "(b'250', b'OK\\n')"
      ]
     },
     "execution_count": 96,
     "metadata": {},
     "output_type": "execute_result"
    }
   ],
   "source": [
    "smtp.send_rcpt('932931207@qq.com')"
   ]
  },
  {
   "cell_type": "code",
   "execution_count": 97,
   "id": "5b065ef6",
   "metadata": {},
   "outputs": [
    {
     "ename": "TimeoutError",
     "evalue": "timed out",
     "output_type": "error",
     "traceback": [
      "\u001b[1;31m---------------------------------------------------------------------------\u001b[0m",
      "\u001b[1;31mTimeoutError\u001b[0m                              Traceback (most recent call last)",
      "Cell \u001b[1;32mIn[97], line 1\u001b[0m\n\u001b[1;32m----> 1\u001b[0m \u001b[43msmtp\u001b[49m\u001b[38;5;241;43m.\u001b[39;49m\u001b[43msend_data\u001b[49m\u001b[43m(\u001b[49m\u001b[38;5;124;43m\"\"\"\u001b[39;49m\u001b[38;5;130;43;01m\\\u001b[39;49;00m\n\u001b[0;32m      2\u001b[0m \u001b[38;5;124;43mFrom: sender@example.com\u001b[39;49m\n\u001b[0;32m      3\u001b[0m \u001b[38;5;124;43mTo: recipient@example.com\u001b[39;49m\n\u001b[0;32m      4\u001b[0m \u001b[38;5;124;43mSubject: Test email\u001b[39;49m\n\u001b[0;32m      5\u001b[0m \n\u001b[0;32m      6\u001b[0m \u001b[38;5;124;43mThis is the body of the email.\u001b[39;49m\n\u001b[0;32m      7\u001b[0m \u001b[38;5;124;43m\"\"\"\u001b[39;49m\u001b[43m)\u001b[49m\n",
      "File \u001b[1;32mD:\\WS20234\\prakRN\\project\\SMTP-protocol-server-and-client\\smtpclient.py:145\u001b[0m, in \u001b[0;36mclient_SMTP.send_data\u001b[1;34m(self, msg)\u001b[0m\n\u001b[0;32m    143\u001b[0m msg \u001b[38;5;241m=\u001b[39m msg \u001b[38;5;241m+\u001b[39m \u001b[38;5;124m'\u001b[39m\u001b[38;5;124m.\u001b[39m\u001b[38;5;124m'\u001b[39m \u001b[38;5;241m+\u001b[39m CRLF\n\u001b[0;32m    144\u001b[0m \u001b[38;5;28mself\u001b[39m\u001b[38;5;241m.\u001b[39msend(msg)\n\u001b[1;32m--> 145\u001b[0m (reply_code, result_msgs) \u001b[38;5;241m=\u001b[39m \u001b[38;5;28;43mself\u001b[39;49m\u001b[38;5;241;43m.\u001b[39;49m\u001b[43mget_reply\u001b[49m\u001b[43m(\u001b[49m\u001b[43m)\u001b[49m\n\u001b[0;32m    146\u001b[0m \u001b[38;5;28;01mreturn\u001b[39;00m (reply_code, result_msgs)\n",
      "File \u001b[1;32mD:\\WS20234\\prakRN\\project\\SMTP-protocol-server-and-client\\smtpclient.py:64\u001b[0m, in \u001b[0;36mclient_SMTP.get_reply\u001b[1;34m(self)\u001b[0m\n\u001b[0;32m     62\u001b[0m \u001b[38;5;28;01mif\u001b[39;00m \u001b[38;5;28mself\u001b[39m\u001b[38;5;241m.\u001b[39mreply \u001b[38;5;129;01mis\u001b[39;00m \u001b[38;5;28;01mNone\u001b[39;00m:\n\u001b[0;32m     63\u001b[0m     \u001b[38;5;28mself\u001b[39m\u001b[38;5;241m.\u001b[39mreply \u001b[38;5;241m=\u001b[39m \u001b[38;5;28mself\u001b[39m\u001b[38;5;241m.\u001b[39mtcp_scoket\u001b[38;5;241m.\u001b[39mmakefile(\u001b[38;5;124m'\u001b[39m\u001b[38;5;124mrb\u001b[39m\u001b[38;5;124m'\u001b[39m)\u001b[38;5;66;03m#create reply file in binary form 必要时需要在后续转化成ascii阅读\u001b[39;00m\n\u001b[1;32m---> 64\u001b[0m reply_msg \u001b[38;5;241m=\u001b[39m \u001b[38;5;28;43mself\u001b[39;49m\u001b[38;5;241;43m.\u001b[39;49m\u001b[43mreply\u001b[49m\u001b[38;5;241;43m.\u001b[39;49m\u001b[43mreadline\u001b[49m\u001b[43m(\u001b[49m\u001b[43mmax_read\u001b[49m\u001b[43m)\u001b[49m\n\u001b[0;32m     65\u001b[0m \u001b[38;5;28;01mwhile\u001b[39;00m \u001b[38;5;241m1\u001b[39m:\n\u001b[0;32m     66\u001b[0m     \u001b[38;5;28;01mif\u001b[39;00m \u001b[38;5;28mlen\u001b[39m(reply_msg) \u001b[38;5;241m>\u001b[39m max_text:\n",
      "File \u001b[1;32mC:\\ProgramData\\anaconda3\\lib\\socket.py:705\u001b[0m, in \u001b[0;36mSocketIO.readinto\u001b[1;34m(self, b)\u001b[0m\n\u001b[0;32m    703\u001b[0m \u001b[38;5;28;01mwhile\u001b[39;00m \u001b[38;5;28;01mTrue\u001b[39;00m:\n\u001b[0;32m    704\u001b[0m     \u001b[38;5;28;01mtry\u001b[39;00m:\n\u001b[1;32m--> 705\u001b[0m         \u001b[38;5;28;01mreturn\u001b[39;00m \u001b[38;5;28;43mself\u001b[39;49m\u001b[38;5;241;43m.\u001b[39;49m\u001b[43m_sock\u001b[49m\u001b[38;5;241;43m.\u001b[39;49m\u001b[43mrecv_into\u001b[49m\u001b[43m(\u001b[49m\u001b[43mb\u001b[49m\u001b[43m)\u001b[49m\n\u001b[0;32m    706\u001b[0m     \u001b[38;5;28;01mexcept\u001b[39;00m timeout:\n\u001b[0;32m    707\u001b[0m         \u001b[38;5;28mself\u001b[39m\u001b[38;5;241m.\u001b[39m_timeout_occurred \u001b[38;5;241m=\u001b[39m \u001b[38;5;28;01mTrue\u001b[39;00m\n",
      "\u001b[1;31mTimeoutError\u001b[0m: timed out"
     ]
    }
   ],
   "source": [
    "smtp.send_data(\"\"\"\\\n",
    "From: sender@example.com\n",
    "To: recipient@example.com\n",
    "Subject: Test email\n",
    "\n",
    "This is the body of the email.\n",
    "\"\"\")"
   ]
  },
  {
   "cell_type": "code",
   "execution_count": 38,
   "id": "5fff7818",
   "metadata": {},
   "outputs": [
    {
     "data": {
      "text/plain": [
       "(b'221', b'Goodbye\\n')"
      ]
     },
     "execution_count": 38,
     "metadata": {},
     "output_type": "execute_result"
    }
   ],
   "source": [
    "smtp.send_quit()"
   ]
  },
  {
   "cell_type": "code",
   "execution_count": 57,
   "id": "eadb0c97",
   "metadata": {},
   "outputs": [
    {
     "data": {
      "text/plain": [
       "(b'250', b'OK\\n')"
      ]
     },
     "execution_count": 57,
     "metadata": {},
     "output_type": "execute_result"
    }
   ],
   "source": [
    "smtp.send_noop()"
   ]
  },
  {
   "cell_type": "code",
   "execution_count": 58,
   "id": "78f84ce9",
   "metadata": {},
   "outputs": [
    {
     "data": {
      "text/plain": [
       "(b'250', b'OK\\n')"
      ]
     },
     "execution_count": 58,
     "metadata": {},
     "output_type": "execute_result"
    }
   ],
   "source": [
    "smtp.send_rset()"
   ]
  },
  {
   "cell_type": "code",
   "execution_count": 59,
   "id": "b355fd50",
   "metadata": {},
   "outputs": [
    {
     "data": {
      "text/plain": [
       "(b'252', b'Cannot VRFY user, but will accept message and attempt delivery\\n')"
      ]
     },
     "execution_count": 59,
     "metadata": {},
     "output_type": "execute_result"
    }
   ],
   "source": [
    "smtp.send_vrfy(\"1234\")"
   ]
  },
  {
   "cell_type": "markdown",
   "id": "0ccba477",
   "metadata": {},
   "source": []
  },
  {
   "cell_type": "code",
   "execution_count": null,
   "id": "150bfc97",
   "metadata": {},
   "outputs": [],
   "source": [
    "import smtplib\n",
    "\n",
    "\n",
    "# 邮件正文\n",
    "body = \"\"\"\\\n",
    "From: sender@example.com\n",
    "To: 932931207@qq.com\n",
    "Subject: Test email\n",
    "\n",
    "This is the body of the email.\n",
    "\"\"\"\n",
    "\n",
    "smtp_server = \"163.123.183.116\"  # SMTP服务器地址\n",
    "smtp_port = 25  # SMTP服务器端口，对于TLS通常是587\n",
    "\n",
    "try:\n",
    "    # 连接到SMTP服务器\n",
    "    server = smtplib.SMTP(smtp_server, smtp_port)\n",
    "    \n",
    "    # 发送邮件\n",
    "    server.sendmail(\"sender@example.com\", \"932931207@qq.com\", body)\n",
    "    print(\"Email successfully sent\")\n",
    "except Exception as e:\n",
    "    print(f\"Error: {e}\")\n",
    "finally:\n",
    "    server.quit()\n"
   ]
  }
 ],
 "metadata": {
  "kernelspec": {
   "display_name": "Python 3 (ipykernel)",
   "language": "python",
   "name": "python3"
  },
  "language_info": {
   "codemirror_mode": {
    "name": "ipython",
    "version": 3
   },
   "file_extension": ".py",
   "mimetype": "text/x-python",
   "name": "python",
   "nbconvert_exporter": "python",
   "pygments_lexer": "ipython3",
   "version": "3.10.9"
  }
 },
 "nbformat": 4,
 "nbformat_minor": 5
}
