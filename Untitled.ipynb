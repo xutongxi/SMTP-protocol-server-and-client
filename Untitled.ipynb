{
 "cells": [
  {
   "cell_type": "code",
   "execution_count": 1,
   "id": "fc18a8e7",
   "metadata": {},
   "outputs": [],
   "source": [
    "import socket\n",
    "\n",
    "\n",
    "SMTP_PORT = 25\n",
    "CRLF = \"\\r\\n\" #line terminator\n",
    "bianry_CRLF = b\"\\r\\n\" #binary form\n",
    "\n"
   ]
  },
  {
   "cell_type": "code",
   "execution_count": 2,
   "id": "c8928a55",
   "metadata": {},
   "outputs": [
    {
     "data": {
      "text/plain": [
       "'laptopxu.fritz.box'"
      ]
     },
     "execution_count": 2,
     "metadata": {},
     "output_type": "execute_result"
    }
   ],
   "source": [
    "socket.getfqdn()"
   ]
  },
  {
   "cell_type": "code",
   "execution_count": 5,
   "id": "c8b1b337",
   "metadata": {},
   "outputs": [],
   "source": [
    "add = socket.gethostbyname(socket.getfqdn())"
   ]
  },
  {
   "cell_type": "code",
   "execution_count": 10,
   "id": "ba700c8e",
   "metadata": {},
   "outputs": [
    {
     "data": {
      "text/plain": [
       "'[192.168.178.116]'"
      ]
     },
     "execution_count": 10,
     "metadata": {},
     "output_type": "execute_result"
    }
   ],
   "source": [
    "'[{}]'.format(add)\n"
   ]
  },
  {
   "cell_type": "markdown",
   "id": "e37a3cb6",
   "metadata": {},
   "source": [
    "实现client_SMTP类"
   ]
  },
  {
   "cell_type": "code",
   "execution_count": null,
   "id": "e6cc59f1",
   "metadata": {},
   "outputs": [],
   "source": [
    "class client_SMTP:\n",
    "    tcp_scoket = None\n",
    "    communication_log = None\n",
    "    host = None\n",
    "    port = SMTP_PORT\n",
    "    timeout = None\n",
    "    esmtp = False\n",
    "    esmtp_support = {}\n",
    "    responce = None\n",
    "    encode = None\n",
    "    \n",
    "    def __init__(self, remote_host, port, local_host_hostname=None, source_address=None, time_out = 10):\n",
    "        self.timeout = time_out\n",
    "        self.host = remote_host\n",
    "        self.encode = 'ascii' #or utf-8 if have time\n",
    "        fqdn = socket.getfqdn()\n",
    "        self.source_address = source_address\n",
    "        if local_host_hostname is not None:\n",
    "            self.local_host_hostname = local_host_hostname\n",
    "        elif '.' in fqdn:\n",
    "            self.local_host_hostname = fqdn\n",
    "        else:\n",
    "            self.local_host_hostname = socket.gethostbyname(socket.getfqdn())\n",
    "            self.local_host_hostname = result = '[{}]'.format(self.local_host_hostname)\n",
    "    \n",
    "    def connect(self, host = None, port = None):\n",
    "        if not host:\n",
    "            host = self.host\n",
    "        if not port:\n",
    "            port = self.port\n",
    "        self.tcp_scoket = socket.create_connection((host, port), self.timeout,self.source_address)\n",
    "        #analysis for the server reply\n",
    "        \n",
    "        \n",
    "    def get_reply(self):\n",
    "        \n",
    "        \n",
    "        \n",
    "\n",
    "        \n",
    "    def _create_socket(self, host, port, timeout):"
   ]
  }
 ],
 "metadata": {
  "kernelspec": {
   "display_name": "Python 3 (ipykernel)",
   "language": "python",
   "name": "python3"
  },
  "language_info": {
   "codemirror_mode": {
    "name": "ipython",
    "version": 3
   },
   "file_extension": ".py",
   "mimetype": "text/x-python",
   "name": "python",
   "nbconvert_exporter": "python",
   "pygments_lexer": "ipython3",
   "version": "3.10.9"
  }
 },
 "nbformat": 4,
 "nbformat_minor": 5
}
