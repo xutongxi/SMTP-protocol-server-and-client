{
 "cells": [
  {
   "cell_type": "code",
   "execution_count": 1,
   "id": "fc18a8e7",
   "metadata": {},
   "outputs": [],
   "source": [
    "import socket\n",
    "\n",
    "\n",
    "SMTP_PORT = 25\n",
    "CRLF = \"\\r\\n\" #line terminator\n",
    "bianry_CRLF = b\"\\r\\n\" #binary form\n",
    "max_text = 1000\n",
    "max_read = 1100\n",
    "\n"
   ]
  },
  {
   "cell_type": "code",
   "execution_count": 2,
   "id": "79ae4bca",
   "metadata": {},
   "outputs": [],
   "source": [
    "class ResponseException(Exception):\n",
    "    def __init__(self, code, message):\n",
    "        self.code = code\n",
    "        self.message = message\n",
    "        super().__init__(f\"SMTP response error: {code} {message}\")\n"
   ]
  },
  {
   "cell_type": "code",
   "execution_count": 2,
   "id": "c8928a55",
   "metadata": {},
   "outputs": [
    {
     "data": {
      "text/plain": [
       "'laptopxu.fritz.box'"
      ]
     },
     "execution_count": 2,
     "metadata": {},
     "output_type": "execute_result"
    }
   ],
   "source": [
    "socket.getfqdn()"
   ]
  },
  {
   "cell_type": "code",
   "execution_count": 35,
   "id": "46b1f385",
   "metadata": {},
   "outputs": [
    {
     "data": {
      "text/plain": [
       "False"
      ]
     },
     "execution_count": 35,
     "metadata": {},
     "output_type": "execute_result"
    }
   ],
   "source": [
    "None == ''"
   ]
  },
  {
   "cell_type": "code",
   "execution_count": 5,
   "id": "c8b1b337",
   "metadata": {},
   "outputs": [],
   "source": [
    "add = socket.gethostbyname(socket.getfqdn())"
   ]
  },
  {
   "cell_type": "code",
   "execution_count": 34,
   "id": "ba700c8e",
   "metadata": {},
   "outputs": [
    {
     "data": {
      "text/plain": [
       "False"
      ]
     },
     "execution_count": 34,
     "metadata": {},
     "output_type": "execute_result"
    }
   ],
   "source": [
    "isinstance(b'123',str)\n"
   ]
  },
  {
   "cell_type": "markdown",
   "id": "e37a3cb6",
   "metadata": {},
   "source": [
    "实现client_SMTP类"
   ]
  },
  {
   "cell_type": "code",
   "execution_count": 32,
   "id": "e6cc59f1",
   "metadata": {},
   "outputs": [],
   "source": [
    "class client_SMTP:\n",
    "    tcp_scoket = None\n",
    "    reply = None\n",
    "    communicat_log = None#等待以后扩展\n",
    "    host = None\n",
    "    port = SMTP_PORT\n",
    "    timeout = None\n",
    "    esmtp = False\n",
    "    esmtp_support = {}\n",
    "    responce = None\n",
    "    encode = None\n",
    "    \n",
    "    def __init__(self, remote_host, port, local_host_hostname=None, source_address=None, time_out = 10):\n",
    "        self.timeout = time_out\n",
    "        self.host = remote_host\n",
    "        self.port = port\n",
    "        self.encode = 'ascii' #or utf-8 if have time\n",
    "        fqdn = socket.getfqdn()\n",
    "        self.source_address = source_address#(ip, port)\n",
    "        if local_host_hostname is not None:\n",
    "            self.local_host_hostname = local_host_hostname\n",
    "        elif '.' in fqdn:\n",
    "            self.local_host_hostname = fqdn\n",
    "        else:\n",
    "            self.local_host_hostname = socket.gethostbyname(socket.getfqdn())\n",
    "            self.local_host_hostname = result = '[{}]'.format(self.local_host_hostname)\n",
    "        (reply_code,reply_msg) = self.connect()\n",
    "        if reply_code != b'220':\n",
    "            #self.close()\n",
    "            raise ResponseException(reply_code,reply_msg)\n",
    "        else:\n",
    "            print(\"connect success\")\n",
    "        \n",
    "    def connect(self, host = None, port = None):\n",
    "        if not host:\n",
    "            host = self.host\n",
    "        if not port:\n",
    "            port = self.port\n",
    "        self.tcp_scoket = socket.create_connection((host, port), self.timeout,self.source_address)\n",
    "        #analysis for the server reply\n",
    "        return self.get_reply()# a touple with code and Possible msg\n",
    "        \n",
    "        \n",
    "    def get_reply(self):#注意得到的msg为二进制形式\n",
    "        reply_list = []\n",
    "        reply_code = b''\n",
    "        if self.reply is None:\n",
    "            self.reply = self.tcp_scoket.makefile('rb')#create reply file in binary form\n",
    "        reply_msg = self.reply.readline(max_read)\n",
    "        while 1:\n",
    "            if len(reply_msg) > max_text:\n",
    "                self.close()\n",
    "                raise ResponseException(500, \"Line too long.\")#longer than 512 this point is 1000 byte\n",
    "            reply_code = reply_msg[0:3]\n",
    "            reply_list.append(reply_msg[4:].strip(b' \\t\\r\\n'))#\\t is not necessary in protocol but avoid some server support\n",
    "            if reply_msg[3:4] != b\"-\":\n",
    "                break\n",
    "            else:\n",
    "                reply_msg = self.reply.readline(max_read)\n",
    "        result_msgs = b\"\"\n",
    "        for line in reply_list:\n",
    "            result_msgs += line + b\"\\n\"\n",
    "        return (reply_code, result_msgs)\n",
    "            \n",
    "    def send(self, msg):#use socket to send messagge\n",
    "        try:\n",
    "            self.tcp_scoket.sendall(msg)#better than send\n",
    "        except socket.error as e:\n",
    "            print(f\"Error sending data: {e}\")\n",
    "            \n",
    "    def send_cmd(self, cmd, msg = None):\n",
    "        if msg != None:\n",
    "            cmd = f'{cmd} {msg}'\n",
    "        self.send(cmd)\n",
    "        (reply_code, result_msgs) = self.get_reply()\n",
    "        \n",
    "        "
   ]
  },
  {
   "cell_type": "code",
   "execution_count": 33,
   "id": "6e2d0e0f",
   "metadata": {},
   "outputs": [
    {
     "name": "stdout",
     "output_type": "stream",
     "text": [
      "connect success\n"
     ]
    }
   ],
   "source": [
    "client = client_SMTP(\"163.123.183.116\", 25)"
   ]
  },
  {
   "cell_type": "code",
   "execution_count": null,
   "id": "d12f4090",
   "metadata": {},
   "outputs": [],
   "source": []
  }
 ],
 "metadata": {
  "kernelspec": {
   "display_name": "Python 3 (ipykernel)",
   "language": "python",
   "name": "python3"
  },
  "language_info": {
   "codemirror_mode": {
    "name": "ipython",
    "version": 3
   },
   "file_extension": ".py",
   "mimetype": "text/x-python",
   "name": "python",
   "nbconvert_exporter": "python",
   "pygments_lexer": "ipython3",
   "version": "3.10.9"
  }
 },
 "nbformat": 4,
 "nbformat_minor": 5
}
