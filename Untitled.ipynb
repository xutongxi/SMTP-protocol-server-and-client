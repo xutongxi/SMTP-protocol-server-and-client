{
 "cells": [
  {
   "cell_type": "code",
   "execution_count": 6,
   "id": "fc18a8e7",
   "metadata": {},
   "outputs": [],
   "source": [
    "import socket\n",
    "\n",
    "\n",
    "SMTP_PORT = 25\n",
    "CRLF = \"\\r\\n\" #line terminator\n",
    "bianry_CRLF = b\"\\r\\n\" #binary form\n",
    "max_text = 1000\n",
    "max_read = 1100\n",
    "\n"
   ]
  },
  {
   "cell_type": "code",
   "execution_count": 7,
   "id": "9f73dac0",
   "metadata": {},
   "outputs": [],
   "source": [
    "class ResponseException(Exception):\n",
    "    def __init__(self, code, message):\n",
    "        self.code = code\n",
    "        self.message = message\n",
    "        super().__init__(f\"SMTP response error: {code} {message}\")\n"
   ]
  },
  {
   "cell_type": "code",
   "execution_count": 2,
   "id": "c8928a55",
   "metadata": {},
   "outputs": [
    {
     "data": {
      "text/plain": [
       "'laptopxu.fritz.box'"
      ]
     },
     "execution_count": 2,
     "metadata": {},
     "output_type": "execute_result"
    }
   ],
   "source": [
    "socket.getfqdn()"
   ]
  },
  {
   "cell_type": "code",
   "execution_count": 5,
   "id": "819d8eab",
   "metadata": {},
   "outputs": [
    {
     "data": {
      "text/plain": [
       "[1, 2, 3]"
      ]
     },
     "execution_count": 5,
     "metadata": {},
     "output_type": "execute_result"
    }
   ],
   "source": [
    "a = [1,2]\n",
    "a.append(3)\n",
    "a"
   ]
  },
  {
   "cell_type": "code",
   "execution_count": 5,
   "id": "c8b1b337",
   "metadata": {},
   "outputs": [],
   "source": [
    "add = socket.gethostbyname(socket.getfqdn())"
   ]
  },
  {
   "cell_type": "code",
   "execution_count": 10,
   "id": "ba700c8e",
   "metadata": {},
   "outputs": [
    {
     "data": {
      "text/plain": [
       "'[192.168.178.116]'"
      ]
     },
     "execution_count": 10,
     "metadata": {},
     "output_type": "execute_result"
    }
   ],
   "source": [
    "'[{}]'.format(add)\n"
   ]
  },
  {
   "cell_type": "markdown",
   "id": "e37a3cb6",
   "metadata": {},
   "source": [
    "实现client_SMTP类"
   ]
  },
  {
   "cell_type": "code",
   "execution_count": 9,
   "id": "e6cc59f1",
   "metadata": {},
   "outputs": [],
   "source": [
    "class client_SMTP:\n",
    "    tcp_scoket = None\n",
    "    reply = None\n",
    "    communicat_log = None#等待以后扩展\n",
    "    host = None\n",
    "    port = SMTP_PORT\n",
    "    timeout = None\n",
    "    esmtp = False\n",
    "    esmtp_support = {}\n",
    "    responce = None\n",
    "    encode = None\n",
    "    \n",
    "    def __init__(self, remote_host, port, local_host_hostname=None, source_address=None, time_out = 10):\n",
    "        self.timeout = time_out\n",
    "        self.host = remote_host\n",
    "        self.port = port\n",
    "        self.encode = 'ascii' #or utf-8 if have time\n",
    "        fqdn = socket.getfqdn()\n",
    "        self.source_address = source_address#(ip, port)\n",
    "        if local_host_hostname is not None:\n",
    "            self.local_host_hostname = local_host_hostname\n",
    "        elif '.' in fqdn:\n",
    "            self.local_host_hostname = fqdn\n",
    "        else:\n",
    "            self.local_host_hostname = socket.gethostbyname(socket.getfqdn())\n",
    "            self.local_host_hostname = result = '[{}]'.format(self.local_host_hostname)\n",
    "        (reply_code,reply_msg) = connect(self)\n",
    "        if reply_code != 220:\n",
    "            self.close()\n",
    "            raise ResponseException(reply_code,reply_msg)\n",
    "        \n",
    "    def connect(self, host = None, port = None):\n",
    "        if not host:\n",
    "            host = self.host\n",
    "        if not port:\n",
    "            port = self.port\n",
    "        self.tcp_scoket = socket.create_connection((host, port), self.timeout,self.source_address)\n",
    "        #analysis for the server reply\n",
    "        return get_reply()# a touple with code and Possible msg\n",
    "        \n",
    "        \n",
    "    def get_reply(self):\n",
    "        reply_list = []\n",
    "        reply_code = b''\n",
    "        if self.file is None:\n",
    "            self.reply = self.sock.makefile('rb')#create reply file in binary form\n",
    "        reply_msg = self.reply.readline(max_read)\n",
    "        while reply_msg[3:4] == b\"-\":\n",
    "            if len(line) > max_text:\n",
    "                self.close()\n",
    "                raise SMTPResponseException(500, \"Line too long.\")#longer than 512 this point is 1000 byte\n",
    "            reply_code = reply_msg[0:3]\n",
    "            reply_list.append(line[4:].strip(b' \\t\\r\\n'))#\\t is not necessary in protocol but avoid some server support\n",
    "        result_msgs = b\"\"\n",
    "        for line in reply_list:\n",
    "            result_msgs += line + b\"\\n\"\n",
    "        return (reply_code, result_msgs)\n",
    "            \n",
    "        "
   ]
  },
  {
   "cell_type": "code",
   "execution_count": null,
   "id": "dcd0f8c3",
   "metadata": {},
   "outputs": [],
   "source": []
  }
 ],
 "metadata": {
  "kernelspec": {
   "display_name": "Python 3 (ipykernel)",
   "language": "python",
   "name": "python3"
  },
  "language_info": {
   "codemirror_mode": {
    "name": "ipython",
    "version": 3
   },
   "file_extension": ".py",
   "mimetype": "text/x-python",
   "name": "python",
   "nbconvert_exporter": "python",
   "pygments_lexer": "ipython3",
   "version": "3.10.9"
  }
 },
 "nbformat": 4,
 "nbformat_minor": 5
}
