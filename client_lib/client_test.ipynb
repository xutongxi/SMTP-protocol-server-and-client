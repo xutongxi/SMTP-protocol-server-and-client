{
 "cells": [
  {
   "cell_type": "code",
   "execution_count": 98,
   "id": "0c62f9b2",
   "metadata": {},
   "outputs": [],
   "source": [
    "import smtpclient"
   ]
  },
  {
   "cell_type": "code",
   "execution_count": 99,
   "id": "8337ec88",
   "metadata": {},
   "outputs": [
    {
     "name": "stdout",
     "output_type": "stream",
     "text": [
      "connect success\n"
     ]
    }
   ],
   "source": [
    "smtp = smtpclient.client_SMTP(\"163.123.183.116\",25,None, None,10)\n"
   ]
  },
  {
   "cell_type": "code",
   "execution_count": 100,
   "id": "f0d1dc83",
   "metadata": {},
   "outputs": [
    {
     "data": {
      "text/plain": [
       "(b'250', b'Hello, pleased to meet you\\n')"
      ]
     },
     "execution_count": 100,
     "metadata": {},
     "output_type": "execute_result"
    }
   ],
   "source": [
    "smtp.send_helo()"
   ]
  },
  {
   "cell_type": "code",
   "execution_count": 101,
   "id": "efc38ca9",
   "metadata": {},
   "outputs": [
    {
     "data": {
      "text/plain": [
       "(b'250', b'OK\\n')"
      ]
     },
     "execution_count": 101,
     "metadata": {},
     "output_type": "execute_result"
    }
   ],
   "source": [
    "smtp.send_mail(\"xutongxi@123.com\")"
   ]
  },
  {
   "cell_type": "code",
   "execution_count": 102,
   "id": "55ef11f3",
   "metadata": {},
   "outputs": [
    {
     "data": {
      "text/plain": [
       "(b'250', b'OK\\n')"
      ]
     },
     "execution_count": 102,
     "metadata": {},
     "output_type": "execute_result"
    }
   ],
   "source": [
    "smtp.send_rcpt('932931207@qq.com')"
   ]
  },
  {
   "cell_type": "code",
   "execution_count": 103,
   "id": "a09db025",
   "metadata": {},
   "outputs": [
    {
     "data": {
      "text/plain": [
       "(b'250', b'OK, message accepted for delivery\\n')"
      ]
     },
     "execution_count": 103,
     "metadata": {},
     "output_type": "execute_result"
    }
   ],
   "source": [
    "smtp.send_data(\"\"\"\\\n",
    "From: sender@example.com\n",
    "To: recipient@example.com\n",
    "Subject: Test email\n",
    "\n",
    "This is the body of the email.\n",
    "\"\"\")"
   ]
  },
  {
   "cell_type": "code",
   "execution_count": 104,
   "id": "2cc9e3bd",
   "metadata": {},
   "outputs": [
    {
     "data": {
      "text/plain": [
       "(b'221', b'Goodbye\\n')"
      ]
     },
     "execution_count": 104,
     "metadata": {},
     "output_type": "execute_result"
    }
   ],
   "source": [
    "smtp.send_quit()"
   ]
  },
  {
   "cell_type": "code",
   "execution_count": 105,
   "id": "b9c211c6",
   "metadata": {},
   "outputs": [
    {
     "ename": "AttributeError",
     "evalue": "'NoneType' object has no attribute 'sendall'",
     "output_type": "error",
     "traceback": [
      "\u001b[1;31m---------------------------------------------------------------------------\u001b[0m",
      "\u001b[1;31mAttributeError\u001b[0m                            Traceback (most recent call last)",
      "Cell \u001b[1;32mIn[105], line 1\u001b[0m\n\u001b[1;32m----> 1\u001b[0m \u001b[43msmtp\u001b[49m\u001b[38;5;241;43m.\u001b[39;49m\u001b[43msend_noop\u001b[49m\u001b[43m(\u001b[49m\u001b[43m)\u001b[49m\n",
      "File \u001b[1;32mD:\\WS20234\\prakRN\\project\\SMTP-protocol-server-and-client\\smtpclient.py:119\u001b[0m, in \u001b[0;36mclient_SMTP.send_noop\u001b[1;34m(self)\u001b[0m\n\u001b[0;32m    118\u001b[0m \u001b[38;5;28;01mdef\u001b[39;00m \u001b[38;5;21msend_noop\u001b[39m(\u001b[38;5;28mself\u001b[39m):\n\u001b[1;32m--> 119\u001b[0m     \u001b[38;5;28;01mreturn\u001b[39;00m \u001b[38;5;28;43mself\u001b[39;49m\u001b[38;5;241;43m.\u001b[39;49m\u001b[43msend_cmd\u001b[49m\u001b[43m(\u001b[49m\u001b[38;5;124;43m'\u001b[39;49m\u001b[38;5;124;43mnoop\u001b[39;49m\u001b[38;5;124;43m'\u001b[39;49m\u001b[43m)\u001b[49m\n",
      "File \u001b[1;32mD:\\WS20234\\prakRN\\project\\SMTP-protocol-server-and-client\\smtpclient.py:95\u001b[0m, in \u001b[0;36mclient_SMTP.send_cmd\u001b[1;34m(self, cmd, msg)\u001b[0m\n\u001b[0;32m     94\u001b[0m \u001b[38;5;28;01mdef\u001b[39;00m \u001b[38;5;21msend_cmd\u001b[39m(\u001b[38;5;28mself\u001b[39m, cmd, msg \u001b[38;5;241m=\u001b[39m \u001b[38;5;28;01mNone\u001b[39;00m):\u001b[38;5;66;03m#cmd内的'\\r'''\\n'需要被转换为\\\\r\\\\n docmd\u001b[39;00m\n\u001b[1;32m---> 95\u001b[0m     \u001b[38;5;28;43mself\u001b[39;49m\u001b[38;5;241;43m.\u001b[39;49m\u001b[43msend_cmd_norly\u001b[49m\u001b[43m(\u001b[49m\u001b[43mcmd\u001b[49m\u001b[43m,\u001b[49m\u001b[43m \u001b[49m\u001b[43mmsg\u001b[49m\u001b[43m)\u001b[49m\n\u001b[0;32m     96\u001b[0m     \u001b[38;5;28;01mreturn\u001b[39;00m \u001b[38;5;28mself\u001b[39m\u001b[38;5;241m.\u001b[39mget_reply()\n",
      "File \u001b[1;32mD:\\WS20234\\prakRN\\project\\SMTP-protocol-server-and-client\\smtpclient.py:92\u001b[0m, in \u001b[0;36mclient_SMTP.send_cmd_norly\u001b[1;34m(self, cmd, msg)\u001b[0m\n\u001b[0;32m     90\u001b[0m \u001b[38;5;28;01melse\u001b[39;00m:\n\u001b[0;32m     91\u001b[0m     cmd \u001b[38;5;241m=\u001b[39m \u001b[38;5;124mf\u001b[39m\u001b[38;5;124m'\u001b[39m\u001b[38;5;132;01m{\u001b[39;00mcmd\u001b[38;5;132;01m}\u001b[39;00m\u001b[38;5;132;01m{\u001b[39;00mCRLF\u001b[38;5;132;01m}\u001b[39;00m\u001b[38;5;124m'\u001b[39m\n\u001b[1;32m---> 92\u001b[0m \u001b[38;5;28;43mself\u001b[39;49m\u001b[38;5;241;43m.\u001b[39;49m\u001b[43msend\u001b[49m\u001b[43m(\u001b[49m\u001b[43mcmd\u001b[49m\u001b[43m)\u001b[49m\n",
      "File \u001b[1;32mD:\\WS20234\\prakRN\\project\\SMTP-protocol-server-and-client\\smtpclient.py:83\u001b[0m, in \u001b[0;36mclient_SMTP.send\u001b[1;34m(self, msg)\u001b[0m\n\u001b[0;32m     81\u001b[0m msg \u001b[38;5;241m=\u001b[39m msg\u001b[38;5;241m.\u001b[39mencode(\u001b[38;5;124m\"\u001b[39m\u001b[38;5;124mascii\u001b[39m\u001b[38;5;124m\"\u001b[39m)\n\u001b[0;32m     82\u001b[0m \u001b[38;5;28;01mtry\u001b[39;00m:\n\u001b[1;32m---> 83\u001b[0m     \u001b[38;5;28;43mself\u001b[39;49m\u001b[38;5;241;43m.\u001b[39;49m\u001b[43mtcp_scoket\u001b[49m\u001b[38;5;241;43m.\u001b[39;49m\u001b[43msendall\u001b[49m(msg)\u001b[38;5;66;03m#better than send\u001b[39;00m\n\u001b[0;32m     84\u001b[0m \u001b[38;5;28;01mexcept\u001b[39;00m socket\u001b[38;5;241m.\u001b[39merror \u001b[38;5;28;01mas\u001b[39;00m e:\n\u001b[0;32m     85\u001b[0m     \u001b[38;5;28mprint\u001b[39m(\u001b[38;5;124mf\u001b[39m\u001b[38;5;124m\"\u001b[39m\u001b[38;5;124mError sending data: \u001b[39m\u001b[38;5;132;01m{\u001b[39;00me\u001b[38;5;132;01m}\u001b[39;00m\u001b[38;5;124m\"\u001b[39m)\n",
      "\u001b[1;31mAttributeError\u001b[0m: 'NoneType' object has no attribute 'sendall'"
     ]
    }
   ],
   "source": [
    "smtp.send_noop()"
   ]
  },
  {
   "cell_type": "code",
   "execution_count": 58,
   "id": "23d97e6a",
   "metadata": {},
   "outputs": [
    {
     "data": {
      "text/plain": [
       "(b'250', b'OK\\n')"
      ]
     },
     "execution_count": 58,
     "metadata": {},
     "output_type": "execute_result"
    }
   ],
   "source": [
    "smtp.send_rset()"
   ]
  },
  {
   "cell_type": "code",
   "execution_count": 59,
   "id": "f7b63fd4",
   "metadata": {},
   "outputs": [
    {
     "data": {
      "text/plain": [
       "(b'252', b'Cannot VRFY user, but will accept message and attempt delivery\\n')"
      ]
     },
     "execution_count": 59,
     "metadata": {},
     "output_type": "execute_result"
    }
   ],
   "source": [
    "smtp.send_vrfy(\"1234\")"
   ]
  },
  {
   "cell_type": "markdown",
   "id": "daed97fa",
   "metadata": {},
   "source": []
  },
  {
   "cell_type": "code",
   "execution_count": null,
   "id": "51ca1774",
   "metadata": {},
   "outputs": [],
   "source": [
    "import smtplib\n",
    "\n",
    "\n",
    "# 邮件正文\n",
    "body = \"\"\"\\\n",
    "From: sender@example.com\n",
    "To: 932931207@qq.com\n",
    "Subject: Test email\n",
    "\n",
    "This is the body of the email.\n",
    "\"\"\"\n",
    "\n",
    "smtp_server = \"163.123.183.116\"  # SMTP服务器地址\n",
    "smtp_port = 25  # SMTP服务器端口，对于TLS通常是587\n",
    "\n",
    "try:\n",
    "    # 连接到SMTP服务器\n",
    "    server = smtplib.SMTP(smtp_server, smtp_port)\n",
    "    \n",
    "    # 发送邮件\n",
    "    server.sendmail(\"sender@example.com\", \"932931207@qq.com\", body)\n",
    "    print(\"Email successfully sent\")\n",
    "except Exception as e:\n",
    "    print(f\"Error: {e}\")\n",
    "finally:\n",
    "    server.quit()\n"
   ]
  }
 ],
 "metadata": {
  "kernelspec": {
   "display_name": "Python 3 (ipykernel)",
   "language": "python",
   "name": "python3"
  },
  "language_info": {
   "codemirror_mode": {
    "name": "ipython",
    "version": 3
   },
   "file_extension": ".py",
   "mimetype": "text/x-python",
   "name": "python",
   "nbconvert_exporter": "python",
   "pygments_lexer": "ipython3",
   "version": "3.10.9"
  }
 },
 "nbformat": 4,
 "nbformat_minor": 5
}
